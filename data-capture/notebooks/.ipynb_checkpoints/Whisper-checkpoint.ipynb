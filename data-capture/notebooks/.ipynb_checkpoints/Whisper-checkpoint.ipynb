{
 "cells": [
  {
   "cell_type": "code",
   "execution_count": 3,
   "id": "7901ba55-0324-4665-81ef-aa64f2880f28",
   "metadata": {},
   "outputs": [],
   "source": [
    "import requests"
   ]
  },
  {
   "cell_type": "code",
   "execution_count": 24,
   "id": "59b9a541-c276-4126-bfc6-9ed2e894eba4",
   "metadata": {},
   "outputs": [
    {
     "name": "stdout",
     "output_type": "stream",
     "text": [
      "The request failed with status code: 424\n",
      "server: azureml-frontdoor\n",
      "date: Wed, 02 Apr 2025 19:53:37 GMT\n",
      "content-type: application/json\n",
      "content-length: 92\n",
      "x-ms-run-function-failed: True\n",
      "x-ms-server-version: azmlinfsrv/1.4.0\n",
      "x-ms-request-id: 01a4e628-fd7d-4b16-abde-09d94292e642\n",
      "x-request-id: 01a4e628-fd7d-4b16-abde-09d94292e642\n",
      "ms-azureml-model-error-reason: model_error\n",
      "ms-azureml-model-error-statuscode: 500\n",
      "azureml-model-deployment: openai-whisper-large-v3-8\n",
      "azureml-model-session: openai-whisper-large-v3-8\n",
      "connection: close\n",
      "\n",
      "\n",
      "{\"message\": \"An unexpected error occurred in scoring script. Check the logs for more info.\"}\n"
     ]
    }
   ],
   "source": [
    "import urllib.request\n",
    "import json\n",
    "\n",
    "# data = {\n",
    "#   \"input_data\": {\n",
    "#     \"audio\": [\n",
    "#       \"./Data/Audio/audio.wav\"\n",
    "#     ],\n",
    "#     \"language\": [\n",
    "#       \"en\"\n",
    "#     ]\n",
    "#   }\n",
    "# }\n",
    "\n",
    "data = {\n",
    "   \"input_data\": {\n",
    "       \"audio\": [\"https://www.wavsource.com/snds_2020-10-01_3728627494378403/tv/a-team/a-team_shut_up_fool_x.wav\"],\n",
    "       \"language\": [\"en\"]\n",
    "   }\n",
    "}\n",
    "\n",
    "body = str.encode(json.dumps(data))\n",
    "\n",
    "url = 'https://usecase1-ntzep.westus.inference.ml.azure.com/score'\n",
    "api_key = '94W853piHepv1eWShAX0mHsH6OzpveYDg3K8WOlWkjW7BK4uyYjSJQQJ99BDAAAAAAAAAAAAINFRAZML3Tz0'\n",
    "if not api_key:\n",
    "    raise Exception(\"A key should be provided to invoke the endpoint\")\n",
    "\n",
    "\n",
    "headers = {'Content-Type':'application/json', 'Accept': 'application/json', 'Authorization':('Bearer '+ api_key)}\n",
    "\n",
    "req = urllib.request.Request(url, body, headers)\n",
    "\n",
    "try:\n",
    "    response = urllib.request.urlopen(req)\n",
    "\n",
    "    result = response.read()\n",
    "    print(result)\n",
    "except urllib.error.HTTPError as error:\n",
    "    print(\"The request failed with status code: \" + str(error.code))\n",
    "    print(error.info())\n",
    "    print(error.read().decode(\"utf8\", 'ignore'))"
   ]
  },
  {
   "cell_type": "code",
   "execution_count": null,
   "id": "44d88dfd-6aff-4f3b-8b92-fee1028d7419",
   "metadata": {},
   "outputs": [],
   "source": []
  }
 ],
 "metadata": {
  "kernelspec": {
   "display_name": "Python 3 (ipykernel)",
   "language": "python",
   "name": "python3"
  },
  "language_info": {
   "codemirror_mode": {
    "name": "ipython",
    "version": 3
   },
   "file_extension": ".py",
   "mimetype": "text/x-python",
   "name": "python",
   "nbconvert_exporter": "python",
   "pygments_lexer": "ipython3",
   "version": "3.10.13"
  }
 },
 "nbformat": 4,
 "nbformat_minor": 5
}
