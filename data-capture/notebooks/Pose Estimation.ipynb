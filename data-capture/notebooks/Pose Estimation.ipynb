{
 "cells": [
  {
   "cell_type": "code",
   "execution_count": 1,
   "id": "d987a8d4-ab6d-4e99-b6f0-7867b788d2fb",
   "metadata": {},
   "outputs": [],
   "source": [
    "import cv2\n",
    "import mediapipe as mp"
   ]
  },
  {
   "cell_type": "code",
   "execution_count": 2,
   "id": "6fd8ad7f-f54f-4830-b12c-2b328a1ff216",
   "metadata": {},
   "outputs": [
    {
     "name": "stderr",
     "output_type": "stream",
     "text": [
      "WARNING: All log messages before absl::InitializeLog() is called are written to STDERR\n",
      "I0000 00:00:1743700555.243978   49782 gl_context_egl.cc:85] Successfully initialized EGL. Major : 1 Minor: 5\n",
      "I0000 00:00:1743700555.246775   49884 gl_context.cc:369] GL version: 3.2 (OpenGL ES 3.2 Mesa 25.0.2-arch1.2), renderer: Mesa Intel(R) UHD Graphics (CML GT2)\n",
      "INFO: Created TensorFlow Lite XNNPACK delegate for CPU.\n",
      "W0000 00:00:1743700555.325331   49866 inference_feedback_manager.cc:114] Feedback manager requires a model with a single signature inference. Disabling support for feedback tensors.\n",
      "W0000 00:00:1743700555.354419   49870 inference_feedback_manager.cc:114] Feedback manager requires a model with a single signature inference. Disabling support for feedback tensors.\n"
     ]
    }
   ],
   "source": [
    "mp_drawing = mp.solutions.drawing_utils\n",
    "mp_pose = mp.solutions.pose\n",
    "pose = mp_pose.Pose(min_detection_confidence=0.5, min_tracking_confidence=0.5)"
   ]
  },
  {
   "cell_type": "code",
   "execution_count": 7,
   "id": "dfd24df5-527e-42b9-baf3-c360338cc30a",
   "metadata": {},
   "outputs": [],
   "source": [
    "# cap = cv2.VideoCapture('test_video.mp4')\n",
    "cap = cv2.VideoCapture(0)\n",
    "while cap.isOpened():\n",
    "    # read frame\n",
    "    _, frame = cap.read()\n",
    "    try:\n",
    "         # resize the frame for portrait video\n",
    "         frame = cv2.resize(frame, (1080, 720))\n",
    "         # convert to RGB\n",
    "         frame_rgb = cv2.cvtColor(frame, cv2.COLOR_BGR2RGB)\n",
    "         \n",
    "         # process the frame for pose detection\n",
    "         pose_results = pose.process(frame_rgb)\n",
    "         # print(pose_results.pose_landmarks)\n",
    "         \n",
    "         # draw skeleton on the frame\n",
    "         mp_drawing.draw_landmarks(frame, pose_results.pose_landmarks, mp_pose.POSE_CONNECTIONS)\n",
    "         # display the frame\n",
    "         cv2.imshow('Output', frame)\n",
    "    except:\n",
    "         break\n",
    "    \n",
    "    if cv2.waitKey(1) == ord('q'):\n",
    "         break\n",
    "          \n",
    "cap.release()\n",
    "cv2.destroyAllWindows()"
   ]
  },
  {
   "cell_type": "code",
   "execution_count": null,
   "id": "7799e6fa-8ed0-4ad4-80a5-b3a843cbfdde",
   "metadata": {},
   "outputs": [],
   "source": []
  }
 ],
 "metadata": {
  "kernelspec": {
   "display_name": "Python 3 (ipykernel)",
   "language": "python",
   "name": "python3"
  },
  "language_info": {
   "codemirror_mode": {
    "name": "ipython",
    "version": 3
   },
   "file_extension": ".py",
   "mimetype": "text/x-python",
   "name": "python",
   "nbconvert_exporter": "python",
   "pygments_lexer": "ipython3",
   "version": "3.10.13"
  }
 },
 "nbformat": 4,
 "nbformat_minor": 5
}
