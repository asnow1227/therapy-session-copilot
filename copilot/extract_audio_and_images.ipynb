{
 "cells": [
  {
   "cell_type": "code",
   "execution_count": 1,
   "id": "767961ce",
   "metadata": {},
   "outputs": [],
   "source": [
    "import requests"
   ]
  },
  {
   "cell_type": "code",
   "execution_count": 3,
   "id": "2848dd8d",
   "metadata": {},
   "outputs": [
    {
     "name": "stdout",
     "output_type": "stream",
     "text": [
      "Collecting opencv-python\n",
      "  Obtaining dependency information for opencv-python from https://files.pythonhosted.org/packages/a4/7d/f1c30a92854540bf789e9cd5dde7ef49bbe63f855b85a2e6b3db8135c591/opencv_python-4.11.0.86-cp37-abi3-win_amd64.whl.metadata\n",
      "  Downloading opencv_python-4.11.0.86-cp37-abi3-win_amd64.whl.metadata (20 kB)\n",
      "Requirement already satisfied: numpy>=1.21.2 in c:\\users\\asnow\\appdata\\roaming\\python\\python311\\site-packages (from opencv-python) (1.25.2)\n",
      "Downloading opencv_python-4.11.0.86-cp37-abi3-win_amd64.whl (39.5 MB)\n",
      "   ---------------------------------------- 0.0/39.5 MB ? eta -:--:--\n",
      "    --------------------------------------- 0.5/39.5 MB 16.2 MB/s eta 0:00:03\n",
      "   - -------------------------------------- 1.7/39.5 MB 21.9 MB/s eta 0:00:02\n",
      "   --- ------------------------------------ 3.1/39.5 MB 24.9 MB/s eta 0:00:02\n",
      "   ---- ----------------------------------- 4.6/39.5 MB 26.6 MB/s eta 0:00:02\n",
      "   ------ --------------------------------- 6.2/39.5 MB 30.3 MB/s eta 0:00:02\n",
      "   ------- -------------------------------- 7.7/39.5 MB 30.7 MB/s eta 0:00:02\n",
      "   --------- ------------------------------ 9.1/39.5 MB 30.5 MB/s eta 0:00:01\n",
      "   ---------- ----------------------------- 10.6/39.5 MB 31.2 MB/s eta 0:00:01\n",
      "   ------------ --------------------------- 12.0/39.5 MB 32.7 MB/s eta 0:00:01\n",
      "   ------------- -------------------------- 12.9/39.5 MB 31.1 MB/s eta 0:00:01\n",
      "   -------------- ------------------------- 13.9/39.5 MB 29.8 MB/s eta 0:00:01\n",
      "   -------------- ------------------------- 14.8/39.5 MB 28.5 MB/s eta 0:00:01\n",
      "   --------------- ------------------------ 15.6/39.5 MB 26.2 MB/s eta 0:00:01\n",
      "   ----------------- ---------------------- 16.8/39.5 MB 25.2 MB/s eta 0:00:01\n",
      "   ------------------ --------------------- 17.9/39.5 MB 24.2 MB/s eta 0:00:01\n",
      "   ------------------- -------------------- 19.0/39.5 MB 24.2 MB/s eta 0:00:01\n",
      "   -------------------- ------------------- 20.0/39.5 MB 23.4 MB/s eta 0:00:01\n",
      "   --------------------- ------------------ 21.0/39.5 MB 22.5 MB/s eta 0:00:01\n",
      "   ---------------------- ----------------- 22.1/39.5 MB 21.9 MB/s eta 0:00:01\n",
      "   ----------------------- ---------------- 23.1/39.5 MB 21.9 MB/s eta 0:00:01\n",
      "   ------------------------ --------------- 23.9/39.5 MB 21.8 MB/s eta 0:00:01\n",
      "   ------------------------ --------------- 24.6/39.5 MB 21.1 MB/s eta 0:00:01\n",
      "   ------------------------- -------------- 25.5/39.5 MB 21.1 MB/s eta 0:00:01\n",
      "   -------------------------- ------------- 26.3/39.5 MB 20.5 MB/s eta 0:00:01\n",
      "   --------------------------- ------------ 26.8/39.5 MB 19.8 MB/s eta 0:00:01\n",
      "   --------------------------- ------------ 27.3/39.5 MB 18.7 MB/s eta 0:00:01\n",
      "   ---------------------------- ----------- 27.9/39.5 MB 17.7 MB/s eta 0:00:01\n",
      "   ---------------------------- ----------- 28.5/39.5 MB 17.7 MB/s eta 0:00:01\n",
      "   ----------------------------- ---------- 29.3/39.5 MB 17.2 MB/s eta 0:00:01\n",
      "   ------------------------------ --------- 30.0/39.5 MB 16.8 MB/s eta 0:00:01\n",
      "   ------------------------------- -------- 30.8/39.5 MB 16.4 MB/s eta 0:00:01\n",
      "   -------------------------------- ------- 31.7/39.5 MB 16.4 MB/s eta 0:00:01\n",
      "   -------------------------------- ------- 32.4/39.5 MB 16.0 MB/s eta 0:00:01\n",
      "   --------------------------------- ------ 33.1/39.5 MB 15.6 MB/s eta 0:00:01\n",
      "   ---------------------------------- ----- 33.6/39.5 MB 15.2 MB/s eta 0:00:01\n",
      "   ---------------------------------- ----- 34.3/39.5 MB 15.2 MB/s eta 0:00:01\n",
      "   ----------------------------------- ---- 35.0/39.5 MB 14.9 MB/s eta 0:00:01\n",
      "   ------------------------------------ --- 35.7/39.5 MB 14.9 MB/s eta 0:00:01\n",
      "   ------------------------------------ --- 36.5/39.5 MB 14.9 MB/s eta 0:00:01\n",
      "   ------------------------------------- -- 37.3/39.5 MB 15.6 MB/s eta 0:00:01\n",
      "   -------------------------------------- - 38.1/39.5 MB 16.0 MB/s eta 0:00:01\n",
      "   ---------------------------------------  39.0/39.5 MB 16.4 MB/s eta 0:00:01\n",
      "   ---------------------------------------  39.5/39.5 MB 16.0 MB/s eta 0:00:01\n",
      "   ---------------------------------------  39.5/39.5 MB 16.0 MB/s eta 0:00:01\n",
      "   ---------------------------------------- 39.5/39.5 MB 13.4 MB/s eta 0:00:00\n",
      "Installing collected packages: opencv-python\n",
      "Successfully installed opencv-python-4.11.0.86\n"
     ]
    },
    {
     "name": "stderr",
     "output_type": "stream",
     "text": [
      "\n",
      "[notice] A new release of pip is available: 23.2.1 -> 25.0.1\n",
      "[notice] To update, run: python.exe -m pip install --upgrade pip\n"
     ]
    }
   ],
   "source": [
    "!pip install opencv-python"
   ]
  },
  {
   "cell_type": "code",
   "execution_count": 6,
   "id": "f3b74146",
   "metadata": {},
   "outputs": [
    {
     "name": "stdout",
     "output_type": "stream",
     "text": [
      "Extracted 1368 frames to FSIVideos/155659/\n"
     ]
    }
   ],
   "source": [
    "import cv2\n",
    "import os\n",
    "\n",
    "# Function to split video into frames\n",
    "def split_video_to_images(video_path, output_folder):\n",
    "    # Create output folder if it doesn't exist\n",
    "    if not os.path.exists(output_folder):\n",
    "        os.makedirs(output_folder)\n",
    "    \n",
    "    # Capture the video\n",
    "    cap = cv2.VideoCapture(video_path)\n",
    "    frame_count = 0\n",
    "    \n",
    "    while True:\n",
    "        ret, frame = cap.read()\n",
    "        if not ret:\n",
    "            break\n",
    "        \n",
    "        # Save frame as image\n",
    "        frame_filename = os.path.join(output_folder, f\"frame_{frame_count:04d}.jpg\")\n",
    "        cv2.imwrite(frame_filename, frame)\n",
    "        frame_count += 1\n",
    "    \n",
    "    cap.release()\n",
    "    print(f\"Extracted {frame_count} frames to {output_folder}\")\n",
    "\n",
    "# Example usage\n",
    "video_path = 'FSIVideos/20230613_155659.mp4'\n",
    "output_folder = 'FSIVideos/155659/'\n",
    "split_video_to_images(video_path, output_folder)"
   ]
  },
  {
   "cell_type": "code",
   "execution_count": null,
   "id": "e4bdd365",
   "metadata": {},
   "outputs": [],
   "source": [
    "from moviepy.editor import VideoFileClip\n",
    "\n",
    "video = VideoFileClip(\"FSIVideos/20230613_155659.mp4\")\n",
    "audio = video.audio\n",
    "audio.write_audiofile(\"FSIVideos/155659/audio.wav\")\n",
    "video.close()"
   ]
  }
 ],
 "metadata": {
  "kernelspec": {
   "display_name": "Python 3 (ipykernel)",
   "language": "python",
   "name": "python3"
  },
  "language_info": {
   "codemirror_mode": {
    "name": "ipython",
    "version": 3
   },
   "file_extension": ".py",
   "mimetype": "text/x-python",
   "name": "python",
   "nbconvert_exporter": "python",
   "pygments_lexer": "ipython3",
   "version": "3.11.4"
  }
 },
 "nbformat": 4,
 "nbformat_minor": 5
}
