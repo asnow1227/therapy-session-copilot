{
 "cells": [
  {
   "cell_type": "code",
   "execution_count": 1,
   "id": "9f1823c6",
   "metadata": {},
   "outputs": [
    {
     "name": "stdout",
     "output_type": "stream",
     "text": [
      "MoviePy - Writing audio in ../data-capture/TherapySessionRecordings/audio.wav\n"
     ]
    },
    {
     "name": "stderr",
     "output_type": "stream",
     "text": [
      "                                                                                                                       "
     ]
    },
    {
     "name": "stdout",
     "output_type": "stream",
     "text": [
      "MoviePy - Done.\n"
     ]
    },
    {
     "name": "stderr",
     "output_type": "stream",
     "text": [
      "\r"
     ]
    }
   ],
   "source": [
    "from moviepy.editor import VideoFileClip\n",
    "\n",
    "# conver the video to an audio file\n",
    "\n",
    "video_path = '../data-capture/TherapySessionRecordings/20230613_161520.mp4'\n",
    "video = VideoFileClip(video_path)\n",
    "audio = video.audio\n",
    "audio_file_path = \"../data-capture/TherapySessionRecordings/audio.wav\"\n",
    "audio.write_audiofile(audio_file_path)\n",
    "video.close()"
   ]
  },
  {
   "cell_type": "code",
   "execution_count": 9,
   "id": "6b181951",
   "metadata": {},
   "outputs": [],
   "source": [
    "import requests\n",
    "import json\n",
    "import os\n",
    "from openai import AzureOpenAI\n",
    "import math\n",
    "\n",
    "\n",
    "with open(\"config.json\", \"r\") as f:\n",
    "    config = json.loads(f.read())\n",
    "\n",
    "url = \"https://usecase1hub1533117385.cognitiveservices.azure.com/speechtotext/transcriptions:transcribe?api-version=2024-11-15\"\n",
    "\n",
    "headers = {\n",
    "    \"Ocp-Apim-Subscription-Key\": config[\"SUBSCRIPTION_KEY\"],\n",
    "    \"Accept\": \"application/json\"\n",
    "}\n",
    "\n",
    "files = {\n",
    "    \"audio\": open(audio_file_path, \"rb\"),\n",
    "    \"definition\": (None, '{\"locales\":[\"en-US\"], \"diarization\": {\"maxSpeakers\": 4,\"enabled\": true}}', 'application/json')\n",
    "}\n",
    "\n",
    "response = requests.post(url, headers=headers, files=files)\n",
    "\n",
    "#transcribe the video with diarization enabled\n",
    "r_json = response.json()\n"
   ]
  },
  {
   "cell_type": "code",
   "execution_count": 10,
   "id": "f36d2e6e",
   "metadata": {},
   "outputs": [],
   "source": [
    "def convert_milliseconds_to_minute_timestamps(ms):\n",
    "    seconds = ms/1000\n",
    "    minutes = int(seconds//60)\n",
    "    rem_seconds = int(math.floor(seconds - minutes * 60))\n",
    "    return f'{minutes}:{rem_seconds:02}'\n",
    "    \n",
    "# add formatted timestamps for the video\n",
    "for phrase in r_json[\"phrases\"]:\n",
    "    phrase[\"offsetSeconds\"] = convert_milliseconds_to_minute_timestamps(phrase['offsetMilliseconds'])"
   ]
  },
  {
   "cell_type": "code",
   "execution_count": 13,
   "id": "5806fc49",
   "metadata": {},
   "outputs": [
    {
     "ename": "AttributeError",
     "evalue": "'str' object has no attribute 'append'",
     "output_type": "error",
     "traceback": [
      "\u001b[1;31m---------------------------------------------------------------------------\u001b[0m",
      "\u001b[1;31mAttributeError\u001b[0m                            Traceback (most recent call last)",
      "Cell \u001b[1;32mIn[13], line 66\u001b[0m\n\u001b[0;32m     63\u001b[0m user_query \u001b[38;5;241m=\u001b[39m \u001b[38;5;124m\"\u001b[39m\u001b[38;5;124mWhere does the patient (speaker 2) start and end conversations?\u001b[39m\u001b[38;5;124m\"\u001b[39m\n\u001b[0;32m     64\u001b[0m user_query_two \u001b[38;5;241m=\u001b[39m \u001b[38;5;124m\"\u001b[39m\u001b[38;5;124m\"\u001b[39m\n\u001b[1;32m---> 66\u001b[0m response, _ \u001b[38;5;241m=\u001b[39m interface_with_gpt(messages, user_query)\n\u001b[0;32m     67\u001b[0m response\u001b[38;5;241m.\u001b[39mchoices[\u001b[38;5;241m0\u001b[39m]\u001b[38;5;241m.\u001b[39mmessage\u001b[38;5;241m.\u001b[39mcontent\n",
      "Cell \u001b[1;32mIn[13], line 40\u001b[0m, in \u001b[0;36minterface_with_gpt\u001b[1;34m(user_query, messages, append_response)\u001b[0m\n\u001b[0;32m     39\u001b[0m \u001b[38;5;28;01mdef\u001b[39;00m \u001b[38;5;21minterface_with_gpt\u001b[39m(user_query, messages, append_response\u001b[38;5;241m=\u001b[39m\u001b[38;5;28;01mFalse\u001b[39;00m):\n\u001b[1;32m---> 40\u001b[0m     messages\u001b[38;5;241m.\u001b[39mappend({\n\u001b[0;32m     41\u001b[0m         \u001b[38;5;124m\"\u001b[39m\u001b[38;5;124mrole\u001b[39m\u001b[38;5;124m\"\u001b[39m: \u001b[38;5;124m\"\u001b[39m\u001b[38;5;124muser\u001b[39m\u001b[38;5;124m\"\u001b[39m,\n\u001b[0;32m     42\u001b[0m         \u001b[38;5;124m\"\u001b[39m\u001b[38;5;124mcontent\u001b[39m\u001b[38;5;124m\"\u001b[39m: user_query\n\u001b[0;32m     43\u001b[0m     })\n\u001b[0;32m     45\u001b[0m     response \u001b[38;5;241m=\u001b[39m client\u001b[38;5;241m.\u001b[39mchat\u001b[38;5;241m.\u001b[39mcompletions\u001b[38;5;241m.\u001b[39mcreate(\n\u001b[0;32m     46\u001b[0m         messages\u001b[38;5;241m=\u001b[39mmessages,\n\u001b[0;32m     47\u001b[0m         max_tokens\u001b[38;5;241m=\u001b[39m\u001b[38;5;241m4096\u001b[39m,\n\u001b[1;32m   (...)\u001b[0m\n\u001b[0;32m     50\u001b[0m         model\u001b[38;5;241m=\u001b[39mdeployment\n\u001b[0;32m     51\u001b[0m     )\n\u001b[0;32m     53\u001b[0m     \u001b[38;5;28;01mif\u001b[39;00m append_response:\n",
      "\u001b[1;31mAttributeError\u001b[0m: 'str' object has no attribute 'append'"
     ]
    }
   ],
   "source": [
    "# pass the transcribed text to chatgpt for analysis and chat\n",
    "\n",
    "system = \"\"\"\n",
    "You will be given a json object that is an audio transcription of a therapy session with a patient with autism.\n",
    "Your job is to answer questions about the data, e.g. at what time stamps did speaker 1 start and end conversations, \n",
    "or where did speaker 1 hesitate?\n",
    "\n",
    "Return your output as a markdown, with bulleted lists where appropriate.\n",
    "\n",
    "If you provide any relevant time stamps, always include the transcript for words or phrases that were spoken at those \n",
    "time stamps. Only refer to the \"offsetSeconds\" attributes for phrases when providing timestamps.\n",
    "\"\"\"\n",
    "\n",
    "endpoint = \"https://usecase1hub1533117385.openai.azure.com/\"\n",
    "model_name = \"gpt-4\"\n",
    "deployment = \"gpt-4\"\n",
    "\n",
    "subscription_key = config[\"SUBSCRIPTION_KEY\"]\n",
    "api_version = \"2024-12-01-preview\"\n",
    "\n",
    "client = AzureOpenAI(\n",
    "    api_version=api_version,\n",
    "    azure_endpoint=endpoint,\n",
    "    api_key=subscription_key,\n",
    ")\n",
    "\n",
    "messages=[\n",
    "    {\"role\": \"system\", \"content\": system},\n",
    "    {\"role\": \"user\", \"content\": [\n",
    "            {\n",
    "                \"type\": \"text\",\n",
    "                \"text\": json.dumps(r_json[\"phrases\"])\n",
    "            }\n",
    "        ],\n",
    "    }\n",
    "]\n",
    "\n",
    "\n",
    "def interface_with_gpt(user_query, messages, append_response=False):\n",
    "    messages.append({\n",
    "        \"role\": \"user\",\n",
    "        \"content\": user_query\n",
    "    })\n",
    "    \n",
    "    response = client.chat.completions.create(\n",
    "        messages=messages,\n",
    "        max_tokens=4096,\n",
    "        temperature=.9,\n",
    "        top_p=.5,\n",
    "        model=deployment\n",
    "    )\n",
    "    \n",
    "    if append_response:\n",
    "        messages.append({\n",
    "            \"role\": \"assistant\",\n",
    "            \"content\": response.choices[0].message.content\n",
    "        })\n",
    "    \n",
    "    return response, messages\n",
    "\n",
    "\n",
    "\n",
    "user_query = \"Where does the patient (speaker 2) start and end conversations?\"\n",
    "user_query_two = \"\"\n",
    "\n",
    "response, _ = interface_with_gpt(messages, user_query)\n",
    "response.choices[0].message.content"
   ]
  },
  {
   "cell_type": "code",
   "execution_count": null,
   "id": "5b859881",
   "metadata": {},
   "outputs": [],
   "source": []
  }
 ],
 "metadata": {
  "kernelspec": {
   "display_name": "Python 3 (ipykernel)",
   "language": "python",
   "name": "python3"
  },
  "language_info": {
   "codemirror_mode": {
    "name": "ipython",
    "version": 3
   },
   "file_extension": ".py",
   "mimetype": "text/x-python",
   "name": "python",
   "nbconvert_exporter": "python",
   "pygments_lexer": "ipython3",
   "version": "3.11.4"
  }
 },
 "nbformat": 4,
 "nbformat_minor": 5
}
