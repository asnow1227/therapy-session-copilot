{
 "cells": [
  {
   "cell_type": "code",
   "execution_count": 5,
   "id": "9a384c8c",
   "metadata": {},
   "outputs": [
    {
     "name": "stdout",
     "output_type": "stream",
     "text": [
      "Extracted 119 frames\n"
     ]
    }
   ],
   "source": [
    "import pandas as pd\n",
    "import numpy as np\n",
    "import requests\n",
    "import time\n",
    "import os\n",
    "import base64\n",
    "import cv2\n",
    "\n",
    "\n",
    "def process_video(video_path, seconds_per_frame=2):\n",
    "    \"\"\"extract a series of frames from a video file based on specified # of fps\"\"\"\n",
    "    base64Frames = []\n",
    "    base_video_path, _ = os.path.splitext(video_path)\n",
    "\n",
    "    video = cv2.VideoCapture(video_path)\n",
    "    total_frames = int(video.get(cv2.CAP_PROP_FRAME_COUNT))\n",
    "    fps = video.get(cv2.CAP_PROP_FPS)\n",
    "    frames_to_skip = int(fps * seconds_per_frame)\n",
    "    curr_frame=0\n",
    "\n",
    "    # Loop through the video and extract frames at specified sampling rate\n",
    "    while curr_frame < total_frames - 1:\n",
    "        video.set(cv2.CAP_PROP_POS_FRAMES, curr_frame)\n",
    "        success, frame = video.read()\n",
    "        if not success:\n",
    "            break\n",
    "        _, buffer = cv2.imencode(\".jpg\", frame)\n",
    "        base64Frames.append(base64.b64encode(buffer).decode(\"utf-8\"))\n",
    "        curr_frame += frames_to_skip\n",
    "    video.release()\n",
    "\n",
    "    print(f\"Extracted {len(base64Frames)} frames\")\n",
    "    return base64Frames\n",
    "\n",
    "\n",
    "video_path = '../data-capture/TherapySessionRecordings/20230613_161520.mp4'\n",
    "b64frames = process_video(video_path, seconds_per_frame=.25)"
   ]
  },
  {
   "cell_type": "code",
   "execution_count": 4,
   "id": "b5a1eea7",
   "metadata": {},
   "outputs": [
    {
     "name": "stdout",
     "output_type": "stream",
     "text": [
      "Collecting azure-identity\n",
      "  Obtaining dependency information for azure-identity from https://files.pythonhosted.org/packages/3d/9f/1f9f3ef4f49729ee207a712a5971a9ca747f2ca47d9cbf13cf6953e3478a/azure_identity-1.21.0-py3-none-any.whl.metadata\n",
      "  Downloading azure_identity-1.21.0-py3-none-any.whl.metadata (81 kB)\n",
      "     ---------------------------------------- 0.0/81.3 kB ? eta -:--:--\n",
      "     ---------------------------------------- 81.3/81.3 kB ? eta 0:00:00\n",
      "Collecting azure-core>=1.31.0 (from azure-identity)\n",
      "  Obtaining dependency information for azure-core>=1.31.0 from https://files.pythonhosted.org/packages/39/83/325bf5e02504dbd8b4faa98197a44cdf8a325ef259b48326a2b6f17f8383/azure_core-1.32.0-py3-none-any.whl.metadata\n",
      "  Downloading azure_core-1.32.0-py3-none-any.whl.metadata (39 kB)\n",
      "Requirement already satisfied: cryptography>=2.5 in c:\\users\\asnow\\anaconda3\\lib\\site-packages (from azure-identity) (41.0.2)\n",
      "Collecting msal>=1.30.0 (from azure-identity)\n",
      "  Obtaining dependency information for msal>=1.30.0 from https://files.pythonhosted.org/packages/93/5a/2e663ef56a5d89eba962941b267ebe5be8c5ea340a9929d286e2f5fac505/msal-1.32.0-py3-none-any.whl.metadata\n",
      "  Downloading msal-1.32.0-py3-none-any.whl.metadata (11 kB)\n",
      "Collecting msal-extensions>=1.2.0 (from azure-identity)\n",
      "  Obtaining dependency information for msal-extensions>=1.2.0 from https://files.pythonhosted.org/packages/5e/75/bd9b7bb966668920f06b200e84454c8f3566b102183bc55c5473d96cb2b9/msal_extensions-1.3.1-py3-none-any.whl.metadata\n",
      "  Downloading msal_extensions-1.3.1-py3-none-any.whl.metadata (7.8 kB)\n",
      "Requirement already satisfied: typing-extensions>=4.0.0 in c:\\users\\asnow\\anaconda3\\lib\\site-packages (from azure-identity) (4.7.1)\n",
      "Requirement already satisfied: requests>=2.21.0 in c:\\users\\asnow\\appdata\\roaming\\python\\python311\\site-packages (from azure-core>=1.31.0->azure-identity) (2.31.0)\n",
      "Requirement already satisfied: six>=1.11.0 in c:\\users\\asnow\\appdata\\roaming\\python\\python311\\site-packages (from azure-core>=1.31.0->azure-identity) (1.16.0)\n",
      "Requirement already satisfied: cffi>=1.12 in c:\\users\\asnow\\anaconda3\\lib\\site-packages (from cryptography>=2.5->azure-identity) (1.15.1)\n",
      "Requirement already satisfied: PyJWT[crypto]<3,>=1.0.0 in c:\\users\\asnow\\appdata\\roaming\\python\\python311\\site-packages (from msal>=1.30.0->azure-identity) (2.8.0)\n",
      "Requirement already satisfied: pycparser in c:\\users\\asnow\\anaconda3\\lib\\site-packages (from cffi>=1.12->cryptography>=2.5->azure-identity) (2.21)\n",
      "Requirement already satisfied: charset-normalizer<4,>=2 in c:\\users\\asnow\\anaconda3\\lib\\site-packages (from requests>=2.21.0->azure-core>=1.31.0->azure-identity) (2.0.4)\n",
      "Requirement already satisfied: idna<4,>=2.5 in c:\\users\\asnow\\anaconda3\\lib\\site-packages (from requests>=2.21.0->azure-core>=1.31.0->azure-identity) (3.4)\n",
      "Requirement already satisfied: urllib3<3,>=1.21.1 in c:\\users\\asnow\\appdata\\roaming\\python\\python311\\site-packages (from requests>=2.21.0->azure-core>=1.31.0->azure-identity) (1.26.16)\n",
      "Requirement already satisfied: certifi>=2017.4.17 in c:\\users\\asnow\\appdata\\roaming\\python\\python311\\site-packages (from requests>=2.21.0->azure-core>=1.31.0->azure-identity) (2023.7.22)\n",
      "Downloading azure_identity-1.21.0-py3-none-any.whl (189 kB)\n",
      "   ---------------------------------------- 0.0/189.2 kB ? eta -:--:--\n",
      "   ---------------------------------------- 189.2/189.2 kB ? eta 0:00:00\n",
      "Downloading azure_core-1.32.0-py3-none-any.whl (198 kB)\n",
      "   ---------------------------------------- 0.0/198.9 kB ? eta -:--:--\n",
      "   --------------------------------------- 198.9/198.9 kB 11.8 MB/s eta 0:00:00\n",
      "Downloading msal-1.32.0-py3-none-any.whl (114 kB)\n",
      "   ---------------------------------------- 0.0/114.7 kB ? eta -:--:--\n",
      "   ---------------------------------------- 114.7/114.7 kB 6.5 MB/s eta 0:00:00\n",
      "Downloading msal_extensions-1.3.1-py3-none-any.whl (20 kB)\n",
      "Installing collected packages: azure-core, msal, msal-extensions, azure-identity\n",
      "Successfully installed azure-core-1.32.0 azure-identity-1.21.0 msal-1.32.0 msal-extensions-1.3.1\n"
     ]
    },
    {
     "name": "stderr",
     "output_type": "stream",
     "text": [
      "\n",
      "[notice] A new release of pip is available: 23.2.1 -> 25.0.1\n",
      "[notice] To update, run: python.exe -m pip install --upgrade pip\n"
     ]
    }
   ],
   "source": [
    "!pip install azure-identity"
   ]
  },
  {
   "cell_type": "code",
   "execution_count": 9,
   "id": "40230d9d",
   "metadata": {},
   "outputs": [
    {
     "name": "stdout",
     "output_type": "stream",
     "text": [
      "Requirement already satisfied: openai in c:\\users\\asnow\\appdata\\roaming\\python\\python311\\site-packages (0.27.8)\n",
      "Requirement already satisfied: requests>=2.20 in c:\\users\\asnow\\appdata\\roaming\\python\\python311\\site-packages (from openai) (2.31.0)\n",
      "Requirement already satisfied: tqdm in c:\\users\\asnow\\appdata\\roaming\\python\\python311\\site-packages (from openai) (4.66.1)\n",
      "Requirement already satisfied: aiohttp in c:\\users\\asnow\\appdata\\roaming\\python\\python311\\site-packages (from openai) (3.8.5)\n",
      "Requirement already satisfied: charset-normalizer<4,>=2 in c:\\users\\asnow\\anaconda3\\lib\\site-packages (from requests>=2.20->openai) (2.0.4)\n",
      "Requirement already satisfied: idna<4,>=2.5 in c:\\users\\asnow\\anaconda3\\lib\\site-packages (from requests>=2.20->openai) (3.4)\n",
      "Requirement already satisfied: urllib3<3,>=1.21.1 in c:\\users\\asnow\\appdata\\roaming\\python\\python311\\site-packages (from requests>=2.20->openai) (1.26.16)\n",
      "Requirement already satisfied: certifi>=2017.4.17 in c:\\users\\asnow\\appdata\\roaming\\python\\python311\\site-packages (from requests>=2.20->openai) (2023.7.22)\n",
      "Requirement already satisfied: attrs>=17.3.0 in c:\\users\\asnow\\appdata\\roaming\\python\\python311\\site-packages (from aiohttp->openai) (23.1.0)\n",
      "Requirement already satisfied: multidict<7.0,>=4.5 in c:\\users\\asnow\\anaconda3\\lib\\site-packages (from aiohttp->openai) (6.0.2)\n",
      "Requirement already satisfied: async-timeout<5.0,>=4.0.0a3 in c:\\users\\asnow\\appdata\\roaming\\python\\python311\\site-packages (from aiohttp->openai) (4.0.3)\n",
      "Requirement already satisfied: yarl<2.0,>=1.0 in c:\\users\\asnow\\appdata\\roaming\\python\\python311\\site-packages (from aiohttp->openai) (1.9.2)\n",
      "Requirement already satisfied: frozenlist>=1.1.1 in c:\\users\\asnow\\anaconda3\\lib\\site-packages (from aiohttp->openai) (1.3.3)\n",
      "Requirement already satisfied: aiosignal>=1.1.2 in c:\\users\\asnow\\appdata\\roaming\\python\\python311\\site-packages (from aiohttp->openai) (1.3.1)\n",
      "Requirement already satisfied: colorama in c:\\users\\asnow\\anaconda3\\lib\\site-packages (from tqdm->openai) (0.4.6)\n"
     ]
    },
    {
     "name": "stderr",
     "output_type": "stream",
     "text": [
      "\n",
      "[notice] A new release of pip is available: 23.2.1 -> 25.0.1\n",
      "[notice] To update, run: python.exe -m pip install --upgrade pip\n"
     ]
    }
   ],
   "source": [
    "!pip install openai"
   ]
  },
  {
   "cell_type": "markdown",
   "id": "5a550e47",
   "metadata": {},
   "source": [
    "### Analyzing extracted images for indicators"
   ]
  },
  {
   "cell_type": "code",
   "execution_count": 6,
   "id": "e99d7887",
   "metadata": {},
   "outputs": [],
   "source": [
    "import json\n",
    "\n",
    "with open(\"config.json\", \"r\") as f:\n",
    "    config = json.loads(f.read())"
   ]
  },
  {
   "cell_type": "code",
   "execution_count": 7,
   "id": "2fd1b76b",
   "metadata": {},
   "outputs": [
    {
     "name": "stdout",
     "output_type": "stream",
     "text": [
      "[]\n",
      "\n"
     ]
    }
   ],
   "source": [
    "import os\n",
    "from openai import AzureOpenAI\n",
    "\n",
    "\n",
    "system = \"\"\"\n",
    "You are a behavioral analyst that focuses on therapy sessions for patients with autism.\n",
    "You will be provided a video recording of a therapy session.\n",
    "Your job is to analyze the video to determine if the patient displays any common \"stimming\"\n",
    "patterns. Common examples of stimming patterns include:\n",
    "\n",
    "Hand-flapping: Rapid movement of the hands, often seen when an individual is excited or agitated.\n",
    "Rocking: Body rocking back and forth while sitting or standing.\n",
    "Spinning: Turning in circles or spinning objects repetitively.\n",
    "Echolalia: Repetitive vocal sounds or phrases, often repeated immediately after hearing them.\n",
    "Tapping: Tapping hands or objects repeatedly.\n",
    "Visual Stimming: Staring at lights, moving fingers in front of the eyes, or watching objects spin.\n",
    "Chewing or Biting: Chewing on objects, clothing, or oneself.\n",
    "\n",
    "Provide your output as an array of items whether each of these different patterns were, observed in the video and a summary of the patient's\n",
    "particular behavior corresponding to this pattern if it was observed, e.g.:\n",
    "\n",
    "[\n",
    "  {\n",
    "    \"stimming_type\": ...Example stimming pattern 1...\n",
    "    \"summary\": ...Example summary 1...\n",
    "  },\n",
    "  {\n",
    "    \"stimming_type\": ...Example stimming pattern 2...\n",
    "    \"summary\": ...Example summary 2...\n",
    "  }, ...\n",
    "]\n",
    "\n",
    "Only provide your output as json per the abovementioned format, and nothing more.\n",
    "\"\"\"\n",
    "\n",
    "\n",
    "endpoint = \"https://usecase1hub1533117385.openai.azure.com/\"\n",
    "model_name = \"gpt-4\"\n",
    "deployment = \"gpt-4\"\n",
    "\n",
    "subscription_key = config[\"SUBSCRIPTION_KEY\"]\n",
    "api_version = \"2024-12-01-preview\"\n",
    "\n",
    "client = AzureOpenAI(\n",
    "    api_version=api_version,\n",
    "    azure_endpoint=endpoint,\n",
    "    api_key=subscription_key,\n",
    ")\n",
    "\n",
    "messages=[\n",
    "    {\"role\": \"system\", \"content\": system},\n",
    "    {\"role\": \"user\", \"content\": [\n",
    "        *map(lambda x: {\"type\": \"image_url\",\n",
    "                        \"image_url\": {\"url\": f'data:image/jpg{x[0]};base64,{x[1]}', \"detail\": \"low\"}}, enumerate(b64frames[110:120]))\n",
    "        ],\n",
    "    }\n",
    "    ]\n",
    "\n",
    "response = client.chat.completions.create(\n",
    "    messages=messages,\n",
    "    max_tokens=4096,\n",
    "    temperature=0,\n",
    "    top_p=1.0,\n",
    "    model=deployment\n",
    ")\n",
    "\n",
    "\n",
    "print(response.choices[0].message.content)\n"
   ]
  },
  {
   "cell_type": "code",
   "execution_count": 10,
   "id": "bcdd11f5",
   "metadata": {},
   "outputs": [
    {
     "name": "stderr",
     "output_type": "stream",
     "text": [
      "                                                                                                                       \n",
      "chunk:   3%|██                                                              | 20/613 [01:29<44:22,  4.49s/it, now=None]\n",
      "chunk:   5%|██▉                                                             | 28/613 [00:30<10:28,  1.08s/it, now=None]\u001b[A"
     ]
    },
    {
     "name": "stdout",
     "output_type": "stream",
     "text": [
      "MoviePy - Writing audio in ../data-capture/TherapySessionRecordings/audio.wav\n"
     ]
    },
    {
     "name": "stderr",
     "output_type": "stream",
     "text": [
      "\n",
      "\n",
      "chunk:   0%|                                                                         | 0/613 [00:00<?, ?it/s, now=None]\u001b[A\u001b[A\n",
      "\n",
      "chunk:  69%|█████████████████████████████████████████▊                   | 420/613 [00:00<00:00, 3789.23it/s, now=None]\u001b[A\u001b[A\n",
      "\n",
      "                                                                                                                       \u001b[A\u001b[A\n",
      "chunk:   3%|██                                                              | 20/613 [01:29<44:27,  4.50s/it, now=None]\n",
      "chunk:   5%|██▉                                                             | 28/613 [00:30<10:32,  1.08s/it, now=None]\u001b[A"
     ]
    },
    {
     "name": "stdout",
     "output_type": "stream",
     "text": [
      "MoviePy - Done.\n"
     ]
    }
   ],
   "source": [
    "from moviepy.editor import VideoFileClip\n",
    "\n",
    "video = VideoFileClip(video_path)\n",
    "audio = video.audio\n",
    "audio_file_path = \"../data-capture/TherapySessionRecordings/audio.wav\"\n",
    "audio.write_audiofile(audio_file_path)\n",
    "video.close()"
   ]
  },
  {
   "cell_type": "code",
   "execution_count": 11,
   "id": "e14e1d3c",
   "metadata": {},
   "outputs": [],
   "source": [
    "import requests\n",
    "\n",
    "url = \"https://usecase1hub1533117385.cognitiveservices.azure.com/speechtotext/transcriptions:transcribe?api-version=2024-11-15\"\n",
    "\n",
    "headers = {\n",
    "    \"Ocp-Apim-Subscription-Key\": config[\"SUBSCRIPTION_KEY\"],\n",
    "    \"Accept\": \"application/json\"\n",
    "}\n",
    "\n",
    "files = {\n",
    "    \"audio\": open(audio_file_path, \"rb\"),\n",
    "    \"definition\": (None, '{\"locales\":[\"en-US\"], \"diarization\": {\"maxSpeakers\": 4,\"enabled\": true}}', 'application/json')\n",
    "}\n",
    "\n",
    "response = requests.post(url, headers=headers, files=files)\n",
    "\n",
    "json = response.json()\n"
   ]
  },
  {
   "cell_type": "code",
   "execution_count": 15,
   "id": "2efc3350",
   "metadata": {},
   "outputs": [
    {
     "data": {
      "text/plain": [
       "{'speaker': 1,\n",
       " 'offsetMilliseconds': 3920,\n",
       " 'durationMilliseconds': 600,\n",
       " 'text': 'Hi, Drew.',\n",
       " 'words': [{'text': 'Hi,',\n",
       "   'offsetMilliseconds': 3920,\n",
       "   'durationMilliseconds': 240},\n",
       "  {'text': 'Drew.', 'offsetMilliseconds': 4160, 'durationMilliseconds': 360}],\n",
       " 'locale': 'en-US',\n",
       " 'confidence': 0.8631109}"
      ]
     },
     "execution_count": 15,
     "metadata": {},
     "output_type": "execute_result"
    }
   ],
   "source": [
    "json[\"phrases\"][0]"
   ]
  }
 ],
 "metadata": {
  "kernelspec": {
   "display_name": "Python 3 (ipykernel)",
   "language": "python",
   "name": "python3"
  },
  "language_info": {
   "codemirror_mode": {
    "name": "ipython",
    "version": 3
   },
   "file_extension": ".py",
   "mimetype": "text/x-python",
   "name": "python",
   "nbconvert_exporter": "python",
   "pygments_lexer": "ipython3",
   "version": "3.11.4"
  }
 },
 "nbformat": 4,
 "nbformat_minor": 5
}
